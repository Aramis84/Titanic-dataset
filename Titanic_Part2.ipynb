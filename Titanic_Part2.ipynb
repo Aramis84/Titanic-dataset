{
 "cells": [
  {
   "cell_type": "markdown",
   "metadata": {},
   "source": [
    "# Titanic dataset Part 2 : Classification"
   ]
  },
  {
   "cell_type": "code",
   "execution_count": 3,
   "metadata": {
    "collapsed": true
   },
   "outputs": [],
   "source": [
    "import numpy as np\n",
    "import pandas as pd\n",
    "import matplotlib.pyplot as plt\n",
    "%matplotlib inline"
   ]
  },
  {
   "cell_type": "code",
   "execution_count": 4,
   "metadata": {
    "collapsed": false
   },
   "outputs": [
    {
     "name": "stdout",
     "output_type": "stream",
     "text": [
      "<class 'pandas.core.frame.DataFrame'>\n",
      "Int64Index: 891 entries, 0 to 890\n",
      "Data columns (total 12 columns):\n",
      "PassengerId    891 non-null int64\n",
      "Survived       891 non-null int64\n",
      "Pclass         891 non-null int64\n",
      "Name           891 non-null object\n",
      "Sex            891 non-null object\n",
      "Age            714 non-null float64\n",
      "SibSp          891 non-null int64\n",
      "Parch          891 non-null int64\n",
      "Ticket         891 non-null object\n",
      "Fare           891 non-null float64\n",
      "Cabin          204 non-null object\n",
      "Embarked       889 non-null object\n",
      "dtypes: float64(2), int64(5), object(5)\n",
      "memory usage: 90.5+ KB\n"
     ]
    }
   ],
   "source": [
    "# Reading the data\n",
    "\n",
    "data_raw = pd.read_csv('train.csv')\n",
    "data_test = pd.read_csv('test.csv')\n",
    "data_raw.info()"
   ]
  },
  {
   "cell_type": "code",
   "execution_count": 5,
   "metadata": {
    "collapsed": false
   },
   "outputs": [
    {
     "data": {
      "text/html": [
       "<div>\n",
       "<table border=\"1\" class=\"dataframe\">\n",
       "  <thead>\n",
       "    <tr style=\"text-align: right;\">\n",
       "      <th></th>\n",
       "      <th>PassengerId</th>\n",
       "      <th>Survived</th>\n",
       "      <th>Pclass</th>\n",
       "      <th>Name</th>\n",
       "      <th>Sex</th>\n",
       "      <th>Age</th>\n",
       "      <th>SibSp</th>\n",
       "      <th>Parch</th>\n",
       "      <th>Ticket</th>\n",
       "      <th>Fare</th>\n",
       "      <th>Cabin</th>\n",
       "      <th>Embarked</th>\n",
       "    </tr>\n",
       "  </thead>\n",
       "  <tbody>\n",
       "    <tr>\n",
       "      <th>5</th>\n",
       "      <td>6</td>\n",
       "      <td>0</td>\n",
       "      <td>3</td>\n",
       "      <td>Moran, Mr. James</td>\n",
       "      <td>male</td>\n",
       "      <td>NaN</td>\n",
       "      <td>0</td>\n",
       "      <td>0</td>\n",
       "      <td>330877</td>\n",
       "      <td>8.4583</td>\n",
       "      <td>NaN</td>\n",
       "      <td>Q</td>\n",
       "    </tr>\n",
       "    <tr>\n",
       "      <th>17</th>\n",
       "      <td>18</td>\n",
       "      <td>1</td>\n",
       "      <td>2</td>\n",
       "      <td>Williams, Mr. Charles Eugene</td>\n",
       "      <td>male</td>\n",
       "      <td>NaN</td>\n",
       "      <td>0</td>\n",
       "      <td>0</td>\n",
       "      <td>244373</td>\n",
       "      <td>13.0000</td>\n",
       "      <td>NaN</td>\n",
       "      <td>S</td>\n",
       "    </tr>\n",
       "    <tr>\n",
       "      <th>19</th>\n",
       "      <td>20</td>\n",
       "      <td>1</td>\n",
       "      <td>3</td>\n",
       "      <td>Masselmani, Mrs. Fatima</td>\n",
       "      <td>female</td>\n",
       "      <td>NaN</td>\n",
       "      <td>0</td>\n",
       "      <td>0</td>\n",
       "      <td>2649</td>\n",
       "      <td>7.2250</td>\n",
       "      <td>NaN</td>\n",
       "      <td>C</td>\n",
       "    </tr>\n",
       "    <tr>\n",
       "      <th>26</th>\n",
       "      <td>27</td>\n",
       "      <td>0</td>\n",
       "      <td>3</td>\n",
       "      <td>Emir, Mr. Farred Chehab</td>\n",
       "      <td>male</td>\n",
       "      <td>NaN</td>\n",
       "      <td>0</td>\n",
       "      <td>0</td>\n",
       "      <td>2631</td>\n",
       "      <td>7.2250</td>\n",
       "      <td>NaN</td>\n",
       "      <td>C</td>\n",
       "    </tr>\n",
       "    <tr>\n",
       "      <th>28</th>\n",
       "      <td>29</td>\n",
       "      <td>1</td>\n",
       "      <td>3</td>\n",
       "      <td>O'Dwyer, Miss. Ellen \"Nellie\"</td>\n",
       "      <td>female</td>\n",
       "      <td>NaN</td>\n",
       "      <td>0</td>\n",
       "      <td>0</td>\n",
       "      <td>330959</td>\n",
       "      <td>7.8792</td>\n",
       "      <td>NaN</td>\n",
       "      <td>Q</td>\n",
       "    </tr>\n",
       "  </tbody>\n",
       "</table>\n",
       "</div>"
      ],
      "text/plain": [
       "    PassengerId  Survived  Pclass                           Name     Sex  Age  \\\n",
       "5             6         0       3               Moran, Mr. James    male  NaN   \n",
       "17           18         1       2   Williams, Mr. Charles Eugene    male  NaN   \n",
       "19           20         1       3        Masselmani, Mrs. Fatima  female  NaN   \n",
       "26           27         0       3        Emir, Mr. Farred Chehab    male  NaN   \n",
       "28           29         1       3  O'Dwyer, Miss. Ellen \"Nellie\"  female  NaN   \n",
       "\n",
       "    SibSp  Parch  Ticket     Fare Cabin Embarked  \n",
       "5       0      0  330877   8.4583   NaN        Q  \n",
       "17      0      0  244373  13.0000   NaN        S  \n",
       "19      0      0    2649   7.2250   NaN        C  \n",
       "26      0      0    2631   7.2250   NaN        C  \n",
       "28      0      0  330959   7.8792   NaN        Q  "
      ]
     },
     "execution_count": 5,
     "metadata": {},
     "output_type": "execute_result"
    }
   ],
   "source": [
    "# Taking care of missing values\n",
    "# Columns with missing values\n",
    "# Age, Embarked, Cabin\n",
    "\n",
    "# Age\n",
    "# subset of rows where age is missing\n",
    "data_raw[data_raw['Age'].isnull()].head()"
   ]
  },
  {
   "cell_type": "code",
   "execution_count": 6,
   "metadata": {
    "collapsed": false
   },
   "outputs": [
    {
     "data": {
      "text/plain": [
       "<matplotlib.text.Text at 0x1d987b38>"
      ]
     },
     "execution_count": 6,
     "metadata": {},
     "output_type": "execute_result"
    },
    {
     "data": {
      "image/png": "[encoded data removed]",
      "text/plain": [
       "<matplotlib.figure.Figure at 0x1d579e80>"
      ]
     },
     "metadata": {},
     "output_type": "display_data"
    }
   ],
   "source": [
    "# We can see the age distribution between passenger classes\n",
    "age_med = list(data_raw['Age'].groupby(data_raw['Pclass']).median())\n",
    "Q1 = data_raw['Age'].groupby(data_raw['Pclass']).quantile(0.25)\n",
    "Q3 = data_raw['Age'].groupby(data_raw['Pclass']).quantile(0.75)\n",
    "age_iqr = list(Q3-Q1)\n",
    "\n",
    "ind = np.arange(len(age_med))\n",
    "width = 0.35\n",
    "plt.bar(ind, age_med, width, color = 'indianred', yerr = age_iqr)\n",
    "plt.xticks(ind,['1','2','3'])\n",
    "plt.xlabel('Pclass')\n",
    "plt.ylabel('Age')"
   ]
  },
  {
   "cell_type": "code",
   "execution_count": 7,
   "metadata": {
    "collapsed": false
   },
   "outputs": [
    {
     "name": "stdout",
     "output_type": "stream",
     "text": [
      "<class 'pandas.core.frame.DataFrame'>\n",
      "Int64Index: 891 entries, 0 to 890\n",
      "Data columns (total 12 columns):\n",
      "PassengerId    891 non-null int64\n",
      "Survived       891 non-null int64\n",
      "Pclass         891 non-null int64\n",
      "Name           891 non-null object\n",
      "Sex            891 non-null object\n",
      "Age            891 non-null float64\n",
      "SibSp          891 non-null int64\n",
      "Parch          891 non-null int64\n",
      "Ticket         891 non-null object\n",
      "Fare           891 non-null float64\n",
      "Cabin          204 non-null object\n",
      "Embarked       889 non-null object\n",
      "dtypes: float64(2), int64(5), object(5)\n",
      "memory usage: 90.5+ KB\n"
     ]
    },
    {
     "name": "stderr",
     "output_type": "stream",
     "text": [
      "C:\\Users\\Sayandeep\\Anaconda2\\lib\\site-packages\\ipykernel\\__main__.py:7: SettingWithCopyWarning: \n",
      "A value is trying to be set on a copy of a slice from a DataFrame\n",
      "\n",
      "See the caveats in the documentation: http://pandas.pydata.org/pandas-docs/stable/indexing.html#indexing-view-versus-copy\n"
     ]
    }
   ],
   "source": [
    "# We will replace missing age values based on the class of ticket of the passenger\n",
    "\n",
    "#lets make a copy of the original dataset\n",
    "\n",
    "data_work = data_raw.copy()\n",
    "class_age = {1: age_med[0], 2: age_med[1], 3: age_med[2]}\n",
    "data_work['Age'][data_work['Age'].isnull()] = data_work['Pclass'][data_work['Age'].isnull()].map(class_age)\n",
    "data_work.info()\n",
    "# we see that the null values in the Age column are gone"
   ]
  },
  {
   "cell_type": "code",
   "execution_count": 8,
   "metadata": {
    "collapsed": false
   },
   "outputs": [
    {
     "data": {
      "text/plain": [
       "Embarked\n",
       "C    168\n",
       "Q     77\n",
       "S    644\n",
       "dtype: int64"
      ]
     },
     "execution_count": 8,
     "metadata": {},
     "output_type": "execute_result"
    }
   ],
   "source": [
    "# Embarked\n",
    "# lets see which was the most common port of departure\n",
    "\n",
    "data_work['PassengerId'].groupby(data_work['Embarked']).count()"
   ]
  },
  {
   "cell_type": "code",
   "execution_count": 9,
   "metadata": {
    "collapsed": false
   },
   "outputs": [
    {
     "name": "stdout",
     "output_type": "stream",
     "text": [
      "<class 'pandas.core.frame.DataFrame'>\n",
      "Int64Index: 891 entries, 0 to 890\n",
      "Data columns (total 12 columns):\n",
      "PassengerId    891 non-null int64\n",
      "Survived       891 non-null int64\n",
      "Pclass         891 non-null int64\n",
      "Name           891 non-null object\n",
      "Sex            891 non-null object\n",
      "Age            891 non-null float64\n",
      "SibSp          891 non-null int64\n",
      "Parch          891 non-null int64\n",
      "Ticket         891 non-null object\n",
      "Fare           891 non-null float64\n",
      "Cabin          204 non-null object\n",
      "Embarked       891 non-null object\n",
      "dtypes: float64(2), int64(5), object(5)\n",
      "memory usage: 90.5+ KB\n"
     ]
    }
   ],
   "source": [
    "# We will therefore replace missing port of embarkation as S\n",
    "data_work['Embarked'] = data_work['Embarked'].fillna('S')\n",
    "data_work.info()\n",
    "# Embarked column has no null values"
   ]
  },
  {
   "cell_type": "code",
   "execution_count": 10,
   "metadata": {
    "collapsed": false
   },
   "outputs": [
    {
     "name": "stdout",
     "output_type": "stream",
     "text": [
      "<class 'pandas.core.frame.DataFrame'>\n",
      "Int64Index: 203 entries, 1 to 889\n",
      "Data columns (total 1 columns):\n",
      "Decks    203 non-null object\n",
      "dtypes: object(1)\n",
      "memory usage: 3.2+ KB\n",
      "<class 'pandas.core.frame.DataFrame'>\n",
      "Int64Index: 891 entries, 0 to 890\n",
      "Data columns (total 13 columns):\n",
      "PassengerId    891 non-null int64\n",
      "Survived       891 non-null int64\n",
      "Pclass         891 non-null int64\n",
      "Name           891 non-null object\n",
      "Sex            891 non-null object\n",
      "Age            891 non-null float64\n",
      "SibSp          891 non-null int64\n",
      "Parch          891 non-null int64\n",
      "Ticket         891 non-null object\n",
      "Fare           891 non-null float64\n",
      "Cabin          204 non-null object\n",
      "Embarked       891 non-null object\n",
      "Decks          203 non-null object\n",
      "dtypes: float64(2), int64(5), object(6)\n",
      "memory usage: 97.5+ KB\n"
     ]
    }
   ],
   "source": [
    "# Cabin\n",
    "# We will fill up missing cabin values (actually deck values) by comparing with the price.\n",
    "\n",
    "# lets create a column called 'Decks' that will provide the deck level for each passenger based on the cabin number\n",
    "temp_df = data_work['Cabin'].dropna()\n",
    "temp_df.head()\n",
    "decks = []\n",
    "index = []\n",
    "for ind, val in zip(temp_df.index.values, temp_df): #recording the index labels, this will be useful for dataframe concatenation\n",
    "    decks.append(val[0])\n",
    "    index.append(ind)\n",
    "\n",
    "deck_df = pd.DataFrame(decks, index = index) \n",
    "deck_df.columns = ['Decks'] #giving a name to the column\n",
    "deck_df = deck_df[deck_df['Decks'] !='T'] \n",
    "deck_df.info()\n",
    "\n",
    "data_temp = pd.concat([data_work,deck_df], axis = 1) # concat function automatically aligns rows with same indices. \n",
    "data_temp.info()"
   ]
  },
  {
   "cell_type": "code",
   "execution_count": 11,
   "metadata": {
    "collapsed": false
   },
   "outputs": [
    {
     "data": {
      "text/html": [
       "<div>\n",
       "<table border=\"1\" class=\"dataframe\">\n",
       "  <thead>\n",
       "    <tr style=\"text-align: right;\">\n",
       "      <th></th>\n",
       "      <th>PassengerId</th>\n",
       "      <th>Survived</th>\n",
       "      <th>Pclass</th>\n",
       "      <th>Name</th>\n",
       "      <th>Sex</th>\n",
       "      <th>Age</th>\n",
       "      <th>SibSp</th>\n",
       "      <th>Parch</th>\n",
       "      <th>Ticket</th>\n",
       "      <th>Fare</th>\n",
       "      <th>Cabin</th>\n",
       "      <th>Embarked</th>\n",
       "      <th>Decks</th>\n",
       "      <th>No. of Cabins</th>\n",
       "    </tr>\n",
       "  </thead>\n",
       "  <tbody>\n",
       "    <tr>\n",
       "      <th>0</th>\n",
       "      <td>1</td>\n",
       "      <td>0</td>\n",
       "      <td>3</td>\n",
       "      <td>Braund, Mr. Owen Harris</td>\n",
       "      <td>male</td>\n",
       "      <td>22</td>\n",
       "      <td>1</td>\n",
       "      <td>0</td>\n",
       "      <td>A/5 21171</td>\n",
       "      <td>7.2500</td>\n",
       "      <td>NaN</td>\n",
       "      <td>S</td>\n",
       "      <td>NaN</td>\n",
       "      <td>NaN</td>\n",
       "    </tr>\n",
       "    <tr>\n",
       "      <th>1</th>\n",
       "      <td>2</td>\n",
       "      <td>1</td>\n",
       "      <td>1</td>\n",
       "      <td>Cumings, Mrs. John Bradley (Florence Briggs Th...</td>\n",
       "      <td>female</td>\n",
       "      <td>38</td>\n",
       "      <td>1</td>\n",
       "      <td>0</td>\n",
       "      <td>PC 17599</td>\n",
       "      <td>71.2833</td>\n",
       "      <td>C85</td>\n",
       "      <td>C</td>\n",
       "      <td>C</td>\n",
       "      <td>1</td>\n",
       "    </tr>\n",
       "    <tr>\n",
       "      <th>2</th>\n",
       "      <td>3</td>\n",
       "      <td>1</td>\n",
       "      <td>3</td>\n",
       "      <td>Heikkinen, Miss. Laina</td>\n",
       "      <td>female</td>\n",
       "      <td>26</td>\n",
       "      <td>0</td>\n",
       "      <td>0</td>\n",
       "      <td>STON/O2. 3101282</td>\n",
       "      <td>7.9250</td>\n",
       "      <td>NaN</td>\n",
       "      <td>S</td>\n",
       "      <td>NaN</td>\n",
       "      <td>NaN</td>\n",
       "    </tr>\n",
       "    <tr>\n",
       "      <th>3</th>\n",
       "      <td>4</td>\n",
       "      <td>1</td>\n",
       "      <td>1</td>\n",
       "      <td>Futrelle, Mrs. Jacques Heath (Lily May Peel)</td>\n",
       "      <td>female</td>\n",
       "      <td>35</td>\n",
       "      <td>1</td>\n",
       "      <td>0</td>\n",
       "      <td>113803</td>\n",
       "      <td>53.1000</td>\n",
       "      <td>C123</td>\n",
       "      <td>S</td>\n",
       "      <td>C</td>\n",
       "      <td>1</td>\n",
       "    </tr>\n",
       "    <tr>\n",
       "      <th>4</th>\n",
       "      <td>5</td>\n",
       "      <td>0</td>\n",
       "      <td>3</td>\n",
       "      <td>Allen, Mr. William Henry</td>\n",
       "      <td>male</td>\n",
       "      <td>35</td>\n",
       "      <td>0</td>\n",
       "      <td>0</td>\n",
       "      <td>373450</td>\n",
       "      <td>8.0500</td>\n",
       "      <td>NaN</td>\n",
       "      <td>S</td>\n",
       "      <td>NaN</td>\n",
       "      <td>NaN</td>\n",
       "    </tr>\n",
       "  </tbody>\n",
       "</table>\n",
       "</div>"
      ],
      "text/plain": [
       "   PassengerId  Survived  Pclass  \\\n",
       "0            1         0       3   \n",
       "1            2         1       1   \n",
       "2            3         1       3   \n",
       "3            4         1       1   \n",
       "4            5         0       3   \n",
       "\n",
       "                                                Name     Sex  Age  SibSp  \\\n",
       "0                            Braund, Mr. Owen Harris    male   22      1   \n",
       "1  Cumings, Mrs. John Bradley (Florence Briggs Th...  female   38      1   \n",
       "2                             Heikkinen, Miss. Laina  female   26      0   \n",
       "3       Futrelle, Mrs. Jacques Heath (Lily May Peel)  female   35      1   \n",
       "4                           Allen, Mr. William Henry    male   35      0   \n",
       "\n",
       "   Parch            Ticket     Fare Cabin Embarked Decks  No. of Cabins  \n",
       "0      0         A/5 21171   7.2500   NaN        S   NaN            NaN  \n",
       "1      0          PC 17599  71.2833   C85        C     C              1  \n",
       "2      0  STON/O2. 3101282   7.9250   NaN        S   NaN            NaN  \n",
       "3      0            113803  53.1000  C123        S     C              1  \n",
       "4      0            373450   8.0500   NaN        S   NaN            NaN  "
      ]
     },
     "execution_count": 11,
     "metadata": {},
     "output_type": "execute_result"
    }
   ],
   "source": [
    "# For all the non- null values under 'Cabin', we need to see how many cabins were booked and divide the fare price by the \n",
    "# number of cabins to estimate the average price of a cabin based on the deck level\n",
    "\n",
    "data_nonnull_cabin = data_temp[data_temp['Cabin'].notnull()]\n",
    "def length(x):\n",
    "    temp = x.split(' ')\n",
    "    return len(temp)\n",
    "\n",
    "Cabin = data_nonnull_cabin['Cabin']\n",
    "num_of_cabins = map(length, list(Cabin))\n",
    "\n",
    "no_cabins_df = pd.DataFrame(num_of_cabins, index = data_nonnull_cabin.index.values)\n",
    "no_cabins_df.columns = ['No. of Cabins']\n",
    "\n",
    "data_temp = pd.concat([data_temp,no_cabins_df], axis = 1)\n",
    "data_temp.head()"
   ]
  },
  {
   "cell_type": "code",
   "execution_count": 12,
   "metadata": {
    "collapsed": false
   },
   "outputs": [
    {
     "data": {
      "text/html": [
       "<div>\n",
       "<table border=\"1\" class=\"dataframe\">\n",
       "  <thead>\n",
       "    <tr style=\"text-align: right;\">\n",
       "      <th></th>\n",
       "      <th>PassengerId</th>\n",
       "      <th>Survived</th>\n",
       "      <th>Pclass</th>\n",
       "      <th>Name</th>\n",
       "      <th>Sex</th>\n",
       "      <th>Age</th>\n",
       "      <th>SibSp</th>\n",
       "      <th>Parch</th>\n",
       "      <th>Ticket</th>\n",
       "      <th>Fare</th>\n",
       "      <th>Cabin</th>\n",
       "      <th>Embarked</th>\n",
       "      <th>Decks</th>\n",
       "      <th>No. of Cabins</th>\n",
       "      <th>Fare per cabin</th>\n",
       "    </tr>\n",
       "  </thead>\n",
       "  <tbody>\n",
       "    <tr>\n",
       "      <th>0</th>\n",
       "      <td>1</td>\n",
       "      <td>0</td>\n",
       "      <td>3</td>\n",
       "      <td>Braund, Mr. Owen Harris</td>\n",
       "      <td>male</td>\n",
       "      <td>22</td>\n",
       "      <td>1</td>\n",
       "      <td>0</td>\n",
       "      <td>A/5 21171</td>\n",
       "      <td>7.2500</td>\n",
       "      <td>NaN</td>\n",
       "      <td>S</td>\n",
       "      <td>NaN</td>\n",
       "      <td>NaN</td>\n",
       "      <td>NaN</td>\n",
       "    </tr>\n",
       "    <tr>\n",
       "      <th>1</th>\n",
       "      <td>2</td>\n",
       "      <td>1</td>\n",
       "      <td>1</td>\n",
       "      <td>Cumings, Mrs. John Bradley (Florence Briggs Th...</td>\n",
       "      <td>female</td>\n",
       "      <td>38</td>\n",
       "      <td>1</td>\n",
       "      <td>0</td>\n",
       "      <td>PC 17599</td>\n",
       "      <td>71.2833</td>\n",
       "      <td>C85</td>\n",
       "      <td>C</td>\n",
       "      <td>C</td>\n",
       "      <td>1</td>\n",
       "      <td>71.2833</td>\n",
       "    </tr>\n",
       "    <tr>\n",
       "      <th>2</th>\n",
       "      <td>3</td>\n",
       "      <td>1</td>\n",
       "      <td>3</td>\n",
       "      <td>Heikkinen, Miss. Laina</td>\n",
       "      <td>female</td>\n",
       "      <td>26</td>\n",
       "      <td>0</td>\n",
       "      <td>0</td>\n",
       "      <td>STON/O2. 3101282</td>\n",
       "      <td>7.9250</td>\n",
       "      <td>NaN</td>\n",
       "      <td>S</td>\n",
       "      <td>NaN</td>\n",
       "      <td>NaN</td>\n",
       "      <td>NaN</td>\n",
       "    </tr>\n",
       "    <tr>\n",
       "      <th>3</th>\n",
       "      <td>4</td>\n",
       "      <td>1</td>\n",
       "      <td>1</td>\n",
       "      <td>Futrelle, Mrs. Jacques Heath (Lily May Peel)</td>\n",
       "      <td>female</td>\n",
       "      <td>35</td>\n",
       "      <td>1</td>\n",
       "      <td>0</td>\n",
       "      <td>113803</td>\n",
       "      <td>53.1000</td>\n",
       "      <td>C123</td>\n",
       "      <td>S</td>\n",
       "      <td>C</td>\n",
       "      <td>1</td>\n",
       "      <td>53.1000</td>\n",
       "    </tr>\n",
       "    <tr>\n",
       "      <th>4</th>\n",
       "      <td>5</td>\n",
       "      <td>0</td>\n",
       "      <td>3</td>\n",
       "      <td>Allen, Mr. William Henry</td>\n",
       "      <td>male</td>\n",
       "      <td>35</td>\n",
       "      <td>0</td>\n",
       "      <td>0</td>\n",
       "      <td>373450</td>\n",
       "      <td>8.0500</td>\n",
       "      <td>NaN</td>\n",
       "      <td>S</td>\n",
       "      <td>NaN</td>\n",
       "      <td>NaN</td>\n",
       "      <td>NaN</td>\n",
       "    </tr>\n",
       "  </tbody>\n",
       "</table>\n",
       "</div>"
      ],
      "text/plain": [
       "   PassengerId  Survived  Pclass  \\\n",
       "0            1         0       3   \n",
       "1            2         1       1   \n",
       "2            3         1       3   \n",
       "3            4         1       1   \n",
       "4            5         0       3   \n",
       "\n",
       "                                                Name     Sex  Age  SibSp  \\\n",
       "0                            Braund, Mr. Owen Harris    male   22      1   \n",
       "1  Cumings, Mrs. John Bradley (Florence Briggs Th...  female   38      1   \n",
       "2                             Heikkinen, Miss. Laina  female   26      0   \n",
       "3       Futrelle, Mrs. Jacques Heath (Lily May Peel)  female   35      1   \n",
       "4                           Allen, Mr. William Henry    male   35      0   \n",
       "\n",
       "   Parch            Ticket     Fare Cabin Embarked Decks  No. of Cabins  \\\n",
       "0      0         A/5 21171   7.2500   NaN        S   NaN            NaN   \n",
       "1      0          PC 17599  71.2833   C85        C     C              1   \n",
       "2      0  STON/O2. 3101282   7.9250   NaN        S   NaN            NaN   \n",
       "3      0            113803  53.1000  C123        S     C              1   \n",
       "4      0            373450   8.0500   NaN        S   NaN            NaN   \n",
       "\n",
       "   Fare per cabin  \n",
       "0             NaN  \n",
       "1         71.2833  \n",
       "2             NaN  \n",
       "3         53.1000  \n",
       "4             NaN  "
      ]
     },
     "execution_count": 12,
     "metadata": {},
     "output_type": "execute_result"
    }
   ],
   "source": [
    "data_temp['Fare per cabin'] = data_temp['Fare'].divide(data_temp['No. of Cabins'], axis = 'rows')\n",
    "data_temp.head()"
   ]
  },
  {
   "cell_type": "code",
   "execution_count": 13,
   "metadata": {
    "collapsed": false
   },
   "outputs": [
    {
     "data": {
      "text/plain": [
       "[35.5,\n",
       " 69.299999999999997,\n",
       " 83.158299999999997,\n",
       " 52.554200000000002,\n",
       " 45.181249999999999,\n",
       " 11.17915,\n",
       " 13.581250000000001]"
      ]
     },
     "execution_count": 13,
     "metadata": {},
     "output_type": "execute_result"
    },
    {
     "data": {
      "image/png": "[encoded data removed]",
      "text/plain": [
       "<matplotlib.figure.Figure at 0x1d8ea9e8>"
      ]
     },
     "metadata": {},
     "output_type": "display_data"
    }
   ],
   "source": [
    "# Calculating median fares as a function of deck levels\n",
    "fare_med = list(data_temp['Fare per cabin'].groupby(data_temp['Decks']).median())\n",
    "Q1 = data_temp['Fare per cabin'].groupby(data_temp['Decks']).quantile(0.25)\n",
    "Q3 = data_temp['Fare per cabin'].groupby(data_temp['Decks']).quantile(0.75)\n",
    "fare_iqr = list(Q3-Q1)\n",
    "\n",
    "ind = np.arange(len(fare_med))\n",
    "width = 0.35\n",
    "plt.bar(ind, fare_med, width, color = 'indianred', yerr = fare_iqr)\n",
    "plt.xticks(ind,['A','B','C','D','E','F','G'])\n",
    "plt.xlabel('Decks')\n",
    "plt.ylabel('Fare per cabin')\n",
    "fare_med"
   ]
  },
  {
   "cell_type": "code",
   "execution_count": 14,
   "metadata": {
    "collapsed": false
   },
   "outputs": [
    {
     "name": "stderr",
     "output_type": "stream",
     "text": [
      "C:\\Users\\Sayandeep\\Anaconda2\\lib\\site-packages\\ipykernel\\__main__.py:11: SettingWithCopyWarning: \n",
      "A value is trying to be set on a copy of a slice from a DataFrame\n",
      "\n",
      "See the caveats in the documentation: http://pandas.pydata.org/pandas-docs/stable/indexing.html#indexing-view-versus-copy\n"
     ]
    }
   ],
   "source": [
    "# We will fill up missing cabin values (actually deck values) by comparing with the price.\n",
    "fare_deck_map = {0:'A',1: 'B', 2:'C', 3:'D', 4:'E', 5:'F', 6:'G'}\n",
    "\n",
    "prices = data_temp['Fare'][data_temp['Decks'].isnull()]\n",
    "def price_to_deck(prices, stats):\n",
    "    ind = [np.argmin(np.abs(price - stats)) for price in prices]\n",
    "    return ind\n",
    "\n",
    "ind = pd.Series(price_to_deck(prices, fare_med), index = prices.index.values)\n",
    "\n",
    "data_temp['Decks'][data_temp['Decks'].isnull()] = ind.map(fare_deck_map)"
   ]
  },
  {
   "cell_type": "code",
   "execution_count": 15,
   "metadata": {
    "collapsed": false
   },
   "outputs": [
    {
     "name": "stdout",
     "output_type": "stream",
     "text": [
      "<class 'pandas.core.frame.DataFrame'>\n",
      "Int64Index: 891 entries, 0 to 890\n",
      "Data columns (total 15 columns):\n",
      "PassengerId       891 non-null int64\n",
      "Survived          891 non-null int64\n",
      "Pclass            891 non-null int64\n",
      "Name              891 non-null object\n",
      "Sex               891 non-null object\n",
      "Age               891 non-null float64\n",
      "SibSp             891 non-null int64\n",
      "Parch             891 non-null int64\n",
      "Ticket            891 non-null object\n",
      "Fare              891 non-null float64\n",
      "Cabin             204 non-null object\n",
      "Embarked          891 non-null object\n",
      "Decks             891 non-null object\n",
      "No. of Cabins     204 non-null float64\n",
      "Fare per cabin    204 non-null float64\n",
      "dtypes: float64(4), int64(5), object(6)\n",
      "memory usage: 111.4+ KB\n"
     ]
    }
   ],
   "source": [
    "data_temp.info()\n",
    "# Now that all missing values have been populated, we will drop the temporary columns we created along the way. For example, \n",
    "# there is no way to fill up missing values of no.of cabins with the information we have. Also note that the Decks column now\n",
    "# provides information abou the deck levels. We do not need the 'Cabins' column"
   ]
  },
  {
   "cell_type": "code",
   "execution_count": 16,
   "metadata": {
    "collapsed": false
   },
   "outputs": [
    {
     "data": {
      "text/html": [
       "<div>\n",
       "<table border=\"1\" class=\"dataframe\">\n",
       "  <thead>\n",
       "    <tr style=\"text-align: right;\">\n",
       "      <th></th>\n",
       "      <th>PassengerId</th>\n",
       "      <th>Survived</th>\n",
       "      <th>Pclass</th>\n",
       "      <th>Name</th>\n",
       "      <th>Sex</th>\n",
       "      <th>Age</th>\n",
       "      <th>SibSp</th>\n",
       "      <th>Parch</th>\n",
       "      <th>Ticket</th>\n",
       "      <th>Fare</th>\n",
       "      <th>Cabin</th>\n",
       "      <th>Embarked</th>\n",
       "      <th>Decks</th>\n",
       "      <th>No. of Cabins</th>\n",
       "      <th>Fare per cabin</th>\n",
       "    </tr>\n",
       "  </thead>\n",
       "  <tbody>\n",
       "    <tr>\n",
       "      <th>0</th>\n",
       "      <td>1</td>\n",
       "      <td>0</td>\n",
       "      <td>3</td>\n",
       "      <td>Braund, Mr. Owen Harris</td>\n",
       "      <td>male</td>\n",
       "      <td>22</td>\n",
       "      <td>1</td>\n",
       "      <td>0</td>\n",
       "      <td>A/5 21171</td>\n",
       "      <td>7.2500</td>\n",
       "      <td>NaN</td>\n",
       "      <td>S</td>\n",
       "      <td>F</td>\n",
       "      <td>NaN</td>\n",
       "      <td>NaN</td>\n",
       "    </tr>\n",
       "    <tr>\n",
       "      <th>1</th>\n",
       "      <td>2</td>\n",
       "      <td>1</td>\n",
       "      <td>1</td>\n",
       "      <td>Cumings, Mrs. John Bradley (Florence Briggs Th...</td>\n",
       "      <td>female</td>\n",
       "      <td>38</td>\n",
       "      <td>1</td>\n",
       "      <td>0</td>\n",
       "      <td>PC 17599</td>\n",
       "      <td>71.2833</td>\n",
       "      <td>C85</td>\n",
       "      <td>C</td>\n",
       "      <td>C</td>\n",
       "      <td>1</td>\n",
       "      <td>71.2833</td>\n",
       "    </tr>\n",
       "    <tr>\n",
       "      <th>2</th>\n",
       "      <td>3</td>\n",
       "      <td>1</td>\n",
       "      <td>3</td>\n",
       "      <td>Heikkinen, Miss. Laina</td>\n",
       "      <td>female</td>\n",
       "      <td>26</td>\n",
       "      <td>0</td>\n",
       "      <td>0</td>\n",
       "      <td>STON/O2. 3101282</td>\n",
       "      <td>7.9250</td>\n",
       "      <td>NaN</td>\n",
       "      <td>S</td>\n",
       "      <td>F</td>\n",
       "      <td>NaN</td>\n",
       "      <td>NaN</td>\n",
       "    </tr>\n",
       "    <tr>\n",
       "      <th>3</th>\n",
       "      <td>4</td>\n",
       "      <td>1</td>\n",
       "      <td>1</td>\n",
       "      <td>Futrelle, Mrs. Jacques Heath (Lily May Peel)</td>\n",
       "      <td>female</td>\n",
       "      <td>35</td>\n",
       "      <td>1</td>\n",
       "      <td>0</td>\n",
       "      <td>113803</td>\n",
       "      <td>53.1000</td>\n",
       "      <td>C123</td>\n",
       "      <td>S</td>\n",
       "      <td>C</td>\n",
       "      <td>1</td>\n",
       "      <td>53.1000</td>\n",
       "    </tr>\n",
       "    <tr>\n",
       "      <th>4</th>\n",
       "      <td>5</td>\n",
       "      <td>0</td>\n",
       "      <td>3</td>\n",
       "      <td>Allen, Mr. William Henry</td>\n",
       "      <td>male</td>\n",
       "      <td>35</td>\n",
       "      <td>0</td>\n",
       "      <td>0</td>\n",
       "      <td>373450</td>\n",
       "      <td>8.0500</td>\n",
       "      <td>NaN</td>\n",
       "      <td>S</td>\n",
       "      <td>F</td>\n",
       "      <td>NaN</td>\n",
       "      <td>NaN</td>\n",
       "    </tr>\n",
       "  </tbody>\n",
       "</table>\n",
       "</div>"
      ],
      "text/plain": [
       "   PassengerId  Survived  Pclass  \\\n",
       "0            1         0       3   \n",
       "1            2         1       1   \n",
       "2            3         1       3   \n",
       "3            4         1       1   \n",
       "4            5         0       3   \n",
       "\n",
       "                                                Name     Sex  Age  SibSp  \\\n",
       "0                            Braund, Mr. Owen Harris    male   22      1   \n",
       "1  Cumings, Mrs. John Bradley (Florence Briggs Th...  female   38      1   \n",
       "2                             Heikkinen, Miss. Laina  female   26      0   \n",
       "3       Futrelle, Mrs. Jacques Heath (Lily May Peel)  female   35      1   \n",
       "4                           Allen, Mr. William Henry    male   35      0   \n",
       "\n",
       "   Parch            Ticket     Fare Cabin Embarked Decks  No. of Cabins  \\\n",
       "0      0         A/5 21171   7.2500   NaN        S     F            NaN   \n",
       "1      0          PC 17599  71.2833   C85        C     C              1   \n",
       "2      0  STON/O2. 3101282   7.9250   NaN        S     F            NaN   \n",
       "3      0            113803  53.1000  C123        S     C              1   \n",
       "4      0            373450   8.0500   NaN        S     F            NaN   \n",
       "\n",
       "   Fare per cabin  \n",
       "0             NaN  \n",
       "1         71.2833  \n",
       "2             NaN  \n",
       "3         53.1000  \n",
       "4             NaN  "
      ]
     },
     "execution_count": 16,
     "metadata": {},
     "output_type": "execute_result"
    }
   ],
   "source": [
    "data_modified = data_temp.copy()\n",
    "data_modified.head()"
   ]
  },
  {
   "cell_type": "code",
   "execution_count": 17,
   "metadata": {
    "collapsed": false
   },
   "outputs": [],
   "source": [
    "del data_modified['Cabin']\n",
    "del data_modified['Fare per cabin']\n",
    "del data_modified['No. of Cabins']"
   ]
  },
  {
   "cell_type": "code",
   "execution_count": 18,
   "metadata": {
    "collapsed": false
   },
   "outputs": [
    {
     "name": "stdout",
     "output_type": "stream",
     "text": [
      "<class 'pandas.core.frame.DataFrame'>\n",
      "Int64Index: 891 entries, 0 to 890\n",
      "Data columns (total 12 columns):\n",
      "PassengerId    891 non-null int64\n",
      "Survived       891 non-null int64\n",
      "Pclass         891 non-null int64\n",
      "Name           891 non-null object\n",
      "Sex            891 non-null object\n",
      "Age            891 non-null float64\n",
      "SibSp          891 non-null int64\n",
      "Parch          891 non-null int64\n",
      "Ticket         891 non-null object\n",
      "Fare           891 non-null float64\n",
      "Embarked       891 non-null object\n",
      "Decks          891 non-null object\n",
      "dtypes: float64(2), int64(5), object(5)\n",
      "memory usage: 90.5+ KB\n"
     ]
    }
   ],
   "source": [
    "data_modified.info()"
   ]
  },
  {
   "cell_type": "code",
   "execution_count": 19,
   "metadata": {
    "collapsed": false
   },
   "outputs": [
    {
     "name": "stdout",
     "output_type": "stream",
     "text": [
      "<class 'pandas.core.frame.DataFrame'>\n",
      "Int64Index: 891 entries, 0 to 890\n",
      "Data columns (total 13 columns):\n",
      "PassengerId    891 non-null int64\n",
      "Survived       891 non-null int64\n",
      "Pclass         891 non-null int64\n",
      "Name           891 non-null object\n",
      "Sex            891 non-null object\n",
      "Age            891 non-null float64\n",
      "SibSp          891 non-null int64\n",
      "Parch          891 non-null int64\n",
      "Ticket         891 non-null object\n",
      "Fare           891 non-null float64\n",
      "Embarked       891 non-null object\n",
      "Decks          891 non-null object\n",
      "Group Size     891 non-null object\n",
      "dtypes: float64(2), int64(5), object(6)\n",
      "memory usage: 97.5+ KB\n"
     ]
    }
   ],
   "source": [
    "# Before we begin applying machine learning algorithms, we will add some new features to the dataset.\n",
    "# The group size : whether the passenger was alone or with family\n",
    "# Person category: whether the passenger was an adult (male/female) or a child\n",
    "\n",
    "data_modified['Group Size'] = data_modified['Parch'] + data_modified['SibSp']\n",
    "def alone(passenger):\n",
    "    grp_size = passenger\n",
    "    if grp_size>0:\n",
    "        return 'In group'\n",
    "    else:\n",
    "        return 'Alone'\n",
    "    \n",
    "data_modified['Group Size'] = data_modified['Group Size'].apply(alone)\n",
    "data_modified.info()"
   ]
  },
  {
   "cell_type": "code",
   "execution_count": 20,
   "metadata": {
    "collapsed": false
   },
   "outputs": [
    {
     "data": {
      "text/html": [
       "<div>\n",
       "<table border=\"1\" class=\"dataframe\">\n",
       "  <thead>\n",
       "    <tr style=\"text-align: right;\">\n",
       "      <th></th>\n",
       "      <th>PassengerId</th>\n",
       "      <th>Survived</th>\n",
       "      <th>Pclass</th>\n",
       "      <th>Name</th>\n",
       "      <th>Sex</th>\n",
       "      <th>Age</th>\n",
       "      <th>SibSp</th>\n",
       "      <th>Parch</th>\n",
       "      <th>Ticket</th>\n",
       "      <th>Fare</th>\n",
       "      <th>Embarked</th>\n",
       "      <th>Decks</th>\n",
       "      <th>Group Size</th>\n",
       "      <th>Person Category</th>\n",
       "    </tr>\n",
       "  </thead>\n",
       "  <tbody>\n",
       "    <tr>\n",
       "      <th>0</th>\n",
       "      <td>1</td>\n",
       "      <td>0</td>\n",
       "      <td>3</td>\n",
       "      <td>Braund, Mr. Owen Harris</td>\n",
       "      <td>male</td>\n",
       "      <td>22</td>\n",
       "      <td>1</td>\n",
       "      <td>0</td>\n",
       "      <td>A/5 21171</td>\n",
       "      <td>7.2500</td>\n",
       "      <td>S</td>\n",
       "      <td>F</td>\n",
       "      <td>In group</td>\n",
       "      <td>male</td>\n",
       "    </tr>\n",
       "    <tr>\n",
       "      <th>1</th>\n",
       "      <td>2</td>\n",
       "      <td>1</td>\n",
       "      <td>1</td>\n",
       "      <td>Cumings, Mrs. John Bradley (Florence Briggs Th...</td>\n",
       "      <td>female</td>\n",
       "      <td>38</td>\n",
       "      <td>1</td>\n",
       "      <td>0</td>\n",
       "      <td>PC 17599</td>\n",
       "      <td>71.2833</td>\n",
       "      <td>C</td>\n",
       "      <td>C</td>\n",
       "      <td>In group</td>\n",
       "      <td>female</td>\n",
       "    </tr>\n",
       "    <tr>\n",
       "      <th>2</th>\n",
       "      <td>3</td>\n",
       "      <td>1</td>\n",
       "      <td>3</td>\n",
       "      <td>Heikkinen, Miss. Laina</td>\n",
       "      <td>female</td>\n",
       "      <td>26</td>\n",
       "      <td>0</td>\n",
       "      <td>0</td>\n",
       "      <td>STON/O2. 3101282</td>\n",
       "      <td>7.9250</td>\n",
       "      <td>S</td>\n",
       "      <td>F</td>\n",
       "      <td>Alone</td>\n",
       "      <td>female</td>\n",
       "    </tr>\n",
       "    <tr>\n",
       "      <th>3</th>\n",
       "      <td>4</td>\n",
       "      <td>1</td>\n",
       "      <td>1</td>\n",
       "      <td>Futrelle, Mrs. Jacques Heath (Lily May Peel)</td>\n",
       "      <td>female</td>\n",
       "      <td>35</td>\n",
       "      <td>1</td>\n",
       "      <td>0</td>\n",
       "      <td>113803</td>\n",
       "      <td>53.1000</td>\n",
       "      <td>S</td>\n",
       "      <td>C</td>\n",
       "      <td>In group</td>\n",
       "      <td>female</td>\n",
       "    </tr>\n",
       "    <tr>\n",
       "      <th>4</th>\n",
       "      <td>5</td>\n",
       "      <td>0</td>\n",
       "      <td>3</td>\n",
       "      <td>Allen, Mr. William Henry</td>\n",
       "      <td>male</td>\n",
       "      <td>35</td>\n",
       "      <td>0</td>\n",
       "      <td>0</td>\n",
       "      <td>373450</td>\n",
       "      <td>8.0500</td>\n",
       "      <td>S</td>\n",
       "      <td>F</td>\n",
       "      <td>Alone</td>\n",
       "      <td>male</td>\n",
       "    </tr>\n",
       "  </tbody>\n",
       "</table>\n",
       "</div>"
      ],
      "text/plain": [
       "   PassengerId  Survived  Pclass  \\\n",
       "0            1         0       3   \n",
       "1            2         1       1   \n",
       "2            3         1       3   \n",
       "3            4         1       1   \n",
       "4            5         0       3   \n",
       "\n",
       "                                                Name     Sex  Age  SibSp  \\\n",
       "0                            Braund, Mr. Owen Harris    male   22      1   \n",
       "1  Cumings, Mrs. John Bradley (Florence Briggs Th...  female   38      1   \n",
       "2                             Heikkinen, Miss. Laina  female   26      0   \n",
       "3       Futrelle, Mrs. Jacques Heath (Lily May Peel)  female   35      1   \n",
       "4                           Allen, Mr. William Henry    male   35      0   \n",
       "\n",
       "   Parch            Ticket     Fare Embarked Decks Group Size Person Category  \n",
       "0      0         A/5 21171   7.2500        S     F   In group            male  \n",
       "1      0          PC 17599  71.2833        C     C   In group          female  \n",
       "2      0  STON/O2. 3101282   7.9250        S     F      Alone          female  \n",
       "3      0            113803  53.1000        S     C   In group          female  \n",
       "4      0            373450   8.0500        S     F      Alone            male  "
      ]
     },
     "execution_count": 20,
     "metadata": {},
     "output_type": "execute_result"
    }
   ],
   "source": [
    "def pass_category(pass_det):\n",
    "    age, sex = pass_det\n",
    "    if age < 18:\n",
    "        return 'child'\n",
    "    else:\n",
    "        return sex\n",
    "    \n",
    "data_modified['Person Category'] = data_modified[['Age', 'Sex']].apply(pass_category, axis = 1)\n",
    "data_modified.head()"
   ]
  },
  {
   "cell_type": "code",
   "execution_count": 21,
   "metadata": {
    "collapsed": false
   },
   "outputs": [],
   "source": [
    "# We will select some of the main features in the dataset. Some features such as SIbSp and Parch were combined to generate new\n",
    "# features. Hence we leave out the individual component features. Note we converted numerical features to categorial features. \n",
    "# This process generally results in more abstraction and as a result might be less accurate. The results that follow will be\n",
    "# heavily influenced on the choice of features and their type (numerical or categorical)\n",
    "\n",
    "features = ['Pclass', 'Sex', 'Age', 'Fare', 'Embarked', 'Decks', 'Group Size','Person Category']\n",
    "X_raw = data_modified[features]\n",
    "y_raw = data_modified['Survived']"
   ]
  },
  {
   "cell_type": "code",
   "execution_count": 22,
   "metadata": {
    "collapsed": false
   },
   "outputs": [
    {
     "name": "stdout",
     "output_type": "stream",
     "text": [
      "(891, 5) (891, 3)\n"
     ]
    }
   ],
   "source": [
    "# Extracting categorical and numerical attributes\n",
    "X_raw_categorical = X_raw.select_dtypes(include  = ['object'])\n",
    "X_raw_numerical = X_raw.select_dtypes(include  = ['int64', 'float64'])\n",
    "print X_raw_categorical.shape, X_raw_numerical.shape"
   ]
  },
  {
   "cell_type": "code",
   "execution_count": 23,
   "metadata": {
    "collapsed": false
   },
   "outputs": [
    {
     "name": "stdout",
     "output_type": "stream",
     "text": [
      "(891L, 5L) (891L, 3L)\n"
     ]
    }
   ],
   "source": [
    "X_raw_numerical_arr = X_raw_numerical.as_matrix()\n",
    "X_raw_categorical_arr = X_raw_categorical.as_matrix()\n",
    "# lets check the shapes of the arrays for sanity\n",
    "print X_raw_categorical_arr.shape, X_raw_numerical_arr.shape"
   ]
  },
  {
   "cell_type": "code",
   "execution_count": 24,
   "metadata": {
    "collapsed": false
   },
   "outputs": [],
   "source": [
    "from sklearn.preprocessing import StandardScaler, LabelBinarizer\n",
    "\n",
    "num_operations = StandardScaler()\n",
    "cat_operations = LabelBinarizer()\n",
    "\n",
    "X_prepared = num_operations.fit_transform(X_raw_numerical_arr)\n",
    "for ind in range(X_raw_categorical_arr.shape[1]):\n",
    "    col = X_raw_categorical_arr[:,ind]\n",
    "    col_trans = cat_operations.fit_transform(col)\n",
    "    X_prepared = np.c_[X_prepared, col_trans]"
   ]
  },
  {
   "cell_type": "code",
   "execution_count": null,
   "metadata": {
    "collapsed": false
   },
   "outputs": [],
   "source": [
    "''' We will use an ensemble of classifiers for the given task. In ensemble learning, bank of classifiers are trained for the same\n",
    "goal and the outputs of the  individual classifiers are combined to compute the final decision (class label). More the \n",
    "diversity between classifiers, better is the ensemble system. The ensemble system is more robust, mus less sensitive to input\n",
    "variations and most importantly much less prone to over-fitting. Diversity means each individual classifier learns something\n",
    "different from the other classifiers. Most easy way to introduce this diversity is by resampling the traning set and training\n",
    "the same classifier but with varying training sets. This is called \"Bagging\" or \"Bootsrap Aggregating\". In this exercise, we\n",
    "will introduce diversity by keeping the training set same but using completely different classifiers. Specifically we will use\n",
    "1. Stochastic Gradient Classifier, 2. Logistic Regression,  3. Support Vector Machine, 4. Randon Forest, 5. Naive Bayes', \n",
    "6. K-Nearest Neighbor.'''"
   ]
  },
  {
   "cell_type": "code",
   "execution_count": 25,
   "metadata": {
    "collapsed": false
   },
   "outputs": [
    {
     "data": {
      "text/plain": [
       "((891L, 18L), (891L,))"
      ]
     },
     "execution_count": 25,
     "metadata": {},
     "output_type": "execute_result"
    }
   ],
   "source": [
    "# We will use cross validation to evaluate the models. Also we will use gridsearch for hyper-parameter tuning. So let's import \n",
    "# the necessary modules.\n",
    "from __future__ import division\n",
    "from sklearn.model_selection import GridSearchCV, cross_val_predict, cross_val_score\n",
    "\n",
    "from sklearn.linear_model import SGDClassifier, LogisticRegression\n",
    "from sklearn.svm import SVC\n",
    "from sklearn.naive_bayes import GaussianNB\n",
    "from sklearn.ensemble import RandomForestClassifier\n",
    "\n",
    "X = X_prepared\n",
    "y = y_raw.as_matrix()\n",
    "\n",
    "X.shape, y.shape"
   ]
  },
  {
   "cell_type": "code",
   "execution_count": 26,
   "metadata": {
    "collapsed": false
   },
   "outputs": [
    {
     "name": "stdout",
     "output_type": "stream",
     "text": [
      "Fitting 5 folds for each of 9 candidates, totalling 45 fits\n",
      "{'learning_rate': 'constant', 'eta0': 0.05}\n"
     ]
    },
    {
     "name": "stderr",
     "output_type": "stream",
     "text": [
      "[Parallel(n_jobs=4)]: Done  38 out of  45 | elapsed:    0.7s remaining:    0.0s\n",
      "[Parallel(n_jobs=4)]: Done  45 out of  45 | elapsed:    0.7s finished\n"
     ]
    }
   ],
   "source": [
    "# Let us run a grid search and design the best classifier of each type with the best hyper-parameters\n",
    "# SGD Classifier\n",
    "param_grid = [{'learning_rate' : ['constant', 'optimal', 'invscaling'], 'eta0' : [0.1, 0.05, 0.01]}]\n",
    "sgd_clf = SGDClassifier(loss = 'log',random_state =1)\n",
    "gridsearch_sgd = GridSearchCV(sgd_clf, param_grid, cv = 5, n_jobs =4, verbose = 2)\n",
    "gridsearch_sgd.fit(X, y)\n",
    "best_sgd_clf = gridsearch_sgd.best_estimator_\n",
    "print gridsearch_sgd.best_params_"
   ]
  },
  {
   "cell_type": "code",
   "execution_count": 27,
   "metadata": {
    "collapsed": false
   },
   "outputs": [
    {
     "name": "stdout",
     "output_type": "stream",
     "text": [
      "Fitting 5 folds for each of 4 candidates, totalling 20 fits\n",
      "{'C': 1}\n"
     ]
    },
    {
     "name": "stderr",
     "output_type": "stream",
     "text": [
      "[Parallel(n_jobs=4)]: Done  20 out of  20 | elapsed:    0.5s finished\n"
     ]
    }
   ],
   "source": [
    "# Logistic Regression\n",
    "param_grid = [{'C' : [1,10,100,1000]}]\n",
    "lgr_clf = LogisticRegression(random_state = 1)\n",
    "gridsearch_lgr = GridSearchCV(lgr_clf, param_grid, cv = 5, n_jobs = 4, verbose = 2)\n",
    "gridsearch_lgr.fit(X, y)\n",
    "best_lgr_clf = gridsearch_lgr.best_estimator_\n",
    "print gridsearch_lgr.best_params_"
   ]
  },
  {
   "cell_type": "code",
   "execution_count": 28,
   "metadata": {
    "collapsed": false
   },
   "outputs": [
    {
     "name": "stderr",
     "output_type": "stream",
     "text": [
      "[Parallel(n_jobs=4)]: Done  33 tasks      | elapsed:    5.8s\n",
      "[Parallel(n_jobs=4)]: Done 100 out of 100 | elapsed:   21.6s finished\n"
     ]
    },
    {
     "name": "stdout",
     "output_type": "stream",
     "text": [
      "Fitting 5 folds for each of 20 candidates, totalling 100 fits\n",
      "{'n_estimators': 100, 'max_depth': 10}\n"
     ]
    }
   ],
   "source": [
    "# Random Forest\n",
    "param_grid = [{'n_estimators' : [10,100,300,500], 'max_depth': [3,5,8,10,15]}]\n",
    "raf_clf = RandomForestClassifier(random_state = 1)\n",
    "gridsearch_raf = GridSearchCV(raf_clf, param_grid, cv = 5, n_jobs = 4, verbose = 2)\n",
    "gridsearch_raf.fit(X,y)\n",
    "best_raf_clf = gridsearch_raf.best_estimator_\n",
    "print gridsearch_raf.best_params_"
   ]
  },
  {
   "cell_type": "code",
   "execution_count": 29,
   "metadata": {
    "collapsed": false
   },
   "outputs": [
    {
     "data": {
      "text/plain": [
       "GaussianNB(priors=None)"
      ]
     },
     "execution_count": 29,
     "metadata": {},
     "output_type": "execute_result"
    }
   ],
   "source": [
    "# Naive Bayes'\n",
    "nab_clf = GaussianNB()\n",
    "nab_clf.fit(X,y)"
   ]
  },
  {
   "cell_type": "code",
   "execution_count": 30,
   "metadata": {
    "collapsed": false
   },
   "outputs": [
    {
     "name": "stderr",
     "output_type": "stream",
     "text": [
      "[Parallel(n_jobs=4)]: Done  68 tasks      | elapsed:    0.9s\n",
      "[Parallel(n_jobs=4)]: Done 170 out of 170 | elapsed:    2.6s finished\n"
     ]
    },
    {
     "name": "stdout",
     "output_type": "stream",
     "text": [
      "Fitting 5 folds for each of 34 candidates, totalling 170 fits\n",
      "{'kernel': 'rbf', 'C': 1, 'gamma': 0.1}\n"
     ]
    }
   ],
   "source": [
    "# Support Vector Machine\n",
    "param_grid = [{'kernel' : ['linear', 'rbf'], 'C' : [0.1, 1, 10, 100], 'gamma' : [0.001,0.01, 0.1, 0.5]},\\\n",
    "             {'kernel' : ['poly'],'degree': [2,3] }]\n",
    "svm_clf = SVC(random_state = 1)\n",
    "gridsearch_svm = GridSearchCV(svm_clf, param_grid, cv = 5, n_jobs =4 ,verbose = 2)\n",
    "gridsearch_svm.fit(X,y)\n",
    "best_svm_clf = gridsearch_svm.best_estimator_\n",
    "print gridsearch_svm.best_params_"
   ]
  },
  {
   "cell_type": "code",
   "execution_count": 31,
   "metadata": {
    "collapsed": false
   },
   "outputs": [
    {
     "name": "stderr",
     "output_type": "stream",
     "text": [
      "[Parallel(n_jobs=4)]: Done  46 tasks      | elapsed:    1.6s\n",
      "[Parallel(n_jobs=4)]: Done  60 out of  60 | elapsed:    1.9s finished\n"
     ]
    },
    {
     "name": "stdout",
     "output_type": "stream",
     "text": [
      "Fitting 5 folds for each of 12 candidates, totalling 60 fits\n",
      "{'n_neighbors': 5, 'metric': 'minkowski'}\n"
     ]
    }
   ],
   "source": [
    "# KNN \n",
    "from sklearn.neighbors import KNeighborsClassifier, DistanceMetric\n",
    "\n",
    "V = np.cov(X.transpose())\n",
    "maha = DistanceMetric.get_metric('mahalanobis',V=V)\n",
    "\n",
    "\n",
    "param_grid = [{'n_neighbors' : [3,5,7,9], 'metric': ['minkowski', maha, 'euclidean'] }]\n",
    "knn_clf = KNeighborsClassifier()\n",
    "gridsearch_knn = GridSearchCV(knn_clf, param_grid, cv = 5, n_jobs = 4, verbose = 2)\n",
    "gridsearch_knn.fit(X,y)\n",
    "best_knn_clf = gridsearch_knn.best_estimator_\n",
    "print gridsearch_knn.best_params_"
   ]
  },
  {
   "cell_type": "code",
   "execution_count": 32,
   "metadata": {
    "collapsed": false
   },
   "outputs": [
    {
     "name": "stdout",
     "output_type": "stream",
     "text": [
      "Accuracy: 0.81 (+/- 0.0292) [SGD]\n",
      "Accuracy: 0.81 (+/- 0.0311) [Logistic Regression]\n",
      "Accuracy: 0.76 (+/- 0.0293) [Naive Bayes]\n",
      "Accuracy: 0.84 (+/- 0.0380) [Random Forest]\n",
      "Accuracy: 0.82 (+/- 0.0280) [Support Vector Machine]\n",
      "Accuracy: 0.81 (+/- 0.0258) [K-NN]\n",
      "Accuracy: 0.82 (+/- 0.0321) [Ensemble]\n"
     ]
    }
   ],
   "source": [
    "# Now that we have 6 tuned classifiers, lets combine them and test the ensemble on the train set using cross validation\n",
    "from sklearn.ensemble import VotingClassifier\n",
    "\n",
    "ens_clf = VotingClassifier(estimators = [('sgd', best_sgd_clf) , ('lgr', best_lgr_clf), ('nab', nab_clf),\\\n",
    "                                        ('raf', best_raf_clf), ('svm', best_svm_clf), ('knn', best_knn_clf)])\n",
    "\n",
    "ens_clf.fit(X, y)\n",
    "classifier_list = [best_sgd_clf, best_lgr_clf, nab_clf, best_raf_clf, best_svm_clf, best_knn_clf, ens_clf]\n",
    "labels = ['SGD', 'Logistic Regression', 'Naive Bayes', 'Random Forest', 'Support Vector Machine', 'K-NN', 'Ensemble']\n",
    "weights = []\n",
    "for clf, label in zip(classifier_list, labels):\n",
    "    scores = cross_val_score(clf, X, y, cv = 10, scoring = 'accuracy')\n",
    "    temp  = np.log(scores.mean()/(1-scores.mean()))\n",
    "    weights.append(temp)\n",
    "    print 'Accuracy: %0.2f (+/- %0.4f) [%s]' %(scores.mean(), scores.std(), label)"
   ]
  },
  {
   "cell_type": "code",
   "execution_count": 33,
   "metadata": {
    "collapsed": false
   },
   "outputs": [
    {
     "name": "stdout",
     "output_type": "stream",
     "text": [
      "F1-Score: 0.75, True Detection: 0.75, False Alarm: 0.15  [SGD]\n",
      "F1-Score: 0.74, True Detection: 0.72, False Alarm: 0.14  [Logistic Regression]\n",
      "F1-Score: 0.69, True Detection: 0.75, False Alarm: 0.27  [Naive Bayes]\n",
      "F1-Score: 0.76, True Detection: 0.73, False Alarm: 0.11  [Random Forest]\n",
      "F1-Score: 0.74, True Detection: 0.67, False Alarm: 0.08  [Support Vector Machine]\n",
      "F1-Score: 0.73, True Detection: 0.71, False Alarm: 0.14  [K-NN]\n",
      "F1-Score: 0.75, True Detection: 0.71, False Alarm: 0.11  [Ensemble]\n"
     ]
    }
   ],
   "source": [
    "# Sometimes accuracy is not a good way to judge performance especially when distributions of classes are skewed. We will use a\n",
    "# more robust method, namely the confusion matrix.\n",
    "# To compute the confusion matrix, we need the predicted classes from all the classifiers and the ensemble.\n",
    "from sklearn.metrics import confusion_matrix\n",
    "from sklearn.metrics import f1_score, precision_score, recall_score\n",
    "\n",
    "for clf, label in zip(classifier_list, labels):\n",
    "    y_pred = cross_val_predict(clf, X, y, cv = 5)\n",
    "    f1score = f1_score(y, y_pred)\n",
    "    pre_score = precision_score(y,y_pred)\n",
    "    rec_score = recall_score(y,y_pred)\n",
    "    conf_mat = confusion_matrix(y, y_pred)\n",
    "    row_sums = conf_mat.sum(axis = 1, keepdims = True)\n",
    "    norm_conf_mat = conf_mat/row_sums\n",
    "    true_positive = norm_conf_mat[1,1]\n",
    "    false_alarm = norm_conf_mat[0,1]\n",
    "    print 'F1-Score: %0.2f, True Detection: %0.2f, False Alarm: %0.2f  [%s]' %(f1score, true_positive, false_alarm, label)\n",
    "    \n",
    "# Any non-zero value on the off-diagonal elements in the confusion matrix means there is an error. The top right is false alarm \n",
    "# or Type I error, and the bottom left is mis-detection or the Type II error. Consolidating the confusion matrix into one single\n",
    "# number is ieasier for us mortals to comprehend. We will use the predicted values to compute the F1 score which is the harmonic\n",
    "# mean of the precision and recall. Higher the F1 score (max is 1) better is the performance"
   ]
  },
  {
   "cell_type": "code",
   "execution_count": 34,
   "metadata": {
    "collapsed": false
   },
   "outputs": [
    {
     "name": "stdout",
     "output_type": "stream",
     "text": [
      "Accuracy: 0.81 (+/- 0.0292) [SGD]\n",
      "Accuracy: 0.81 (+/- 0.0311) [Logistic Regression]\n",
      "Accuracy: 0.76 (+/- 0.0293) [Naive Bayes]\n",
      "Accuracy: 0.84 (+/- 0.0380) [Random Forest]\n",
      "Accuracy: 0.82 (+/- 0.0280) [Support Vector Machine]\n",
      "Accuracy: 0.81 (+/- 0.0258) [K-NN]\n",
      "Accuracy: 0.82 (+/- 0.0317) [Ensemble]\n"
     ]
    }
   ],
   "source": [
    "# we will next try weighted majority voting which gives more trust to the better classifiers\n",
    "ens_clf_wt = VotingClassifier(estimators = [('sgd', best_sgd_clf) , ('lgr', best_lgr_clf), ('nab', nab_clf),\\\n",
    "                                        ('raf', best_raf_clf), ('svm', best_svm_clf), ('knn', best_knn_clf)], weights = weights[:-1])\n",
    "ens_clf_wt.fit(X, y)\n",
    "classifier_list = [best_sgd_clf, best_lgr_clf, nab_clf, best_raf_clf, best_svm_clf, best_knn_clf, ens_clf_wt]\n",
    "labels = ['SGD', 'Logistic Regression', 'Naive Bayes', 'Random Forest', 'Support Vector Machine', 'K-NN', 'Ensemble']\n",
    "for clf, label in zip(classifier_list, labels):\n",
    "    scores = cross_val_score(clf, X, y, cv = 10, scoring = 'accuracy')\n",
    "    print 'Accuracy: %0.2f (+/- %0.4f) [%s]' %(scores.mean(), scores.std(), label)"
   ]
  },
  {
   "cell_type": "code",
   "execution_count": 62,
   "metadata": {
    "collapsed": false
   },
   "outputs": [
    {
     "name": "stderr",
     "output_type": "stream",
     "text": [
      "[Parallel(n_jobs=4)]: Done  33 tasks      | elapsed:    7.1s\n",
      "[Parallel(n_jobs=4)]: Done  50 out of  50 | elapsed:   10.3s finished\n"
     ]
    },
    {
     "name": "stdout",
     "output_type": "stream",
     "text": [
      "Fitting 5 folds for each of 10 candidates, totalling 50 fits\n",
      "{'activation': 'relu', 'hidden_layer_sizes': (50,)}\n"
     ]
    }
   ],
   "source": [
    "# lets try a simple neural net (multi-layer perceptron)\n",
    "from sklearn.neural_network import MLPClassifier\n",
    "\n",
    "param_grid = [{'activation' : ['relu', 'tanh'], 'hidden_layer_sizes' : [(100,),(50,),(100,50),(10,10),(20,10)]}]\n",
    "mlp_clf = MLPClassifier(max_iter = 1000, random_state = 42, learning_rate = 'adaptive')\n",
    "gridsearch_mlp = GridSearchCV(mlp_clf, param_grid, cv = 5, n_jobs = 4, verbose = 2)\n",
    "gridsearch_mlp.fit(X,y)\n",
    "best_mlp_clf = gridsearch_mlp.best_estimator_\n",
    "print gridsearch_mlp.best_params_"
   ]
  },
  {
   "cell_type": "code",
   "execution_count": 63,
   "metadata": {
    "collapsed": false
   },
   "outputs": [
    {
     "name": "stdout",
     "output_type": "stream",
     "text": [
      "Accuracy: 0.81 (+/- 0.0292) [SGD]\n",
      "Accuracy: 0.81 (+/- 0.0311) [Logistic Regression]\n",
      "Accuracy: 0.76 (+/- 0.0293) [Naive Bayes]\n",
      "Accuracy: 0.84 (+/- 0.0380) [Random Forest]\n",
      "Accuracy: 0.82 (+/- 0.0280) [Support Vector Machine]\n",
      "Accuracy: 0.81 (+/- 0.0258) [K-NN]\n",
      "Accuracy: 0.81 (+/- 0.0389) [MLP]\n",
      "Accuracy: 0.82 (+/- 0.0372) [Ensemble]\n"
     ]
    }
   ],
   "source": [
    "ens_clf = VotingClassifier(estimators = [('sgd', best_sgd_clf) , ('lgr', best_lgr_clf), ('nab', nab_clf),\\\n",
    "                                        ('raf', best_raf_clf), ('svm', best_svm_clf), ('knn', best_knn_clf),\\\n",
    "                                        ('mlp', best_mlp_clf)])\n",
    "\n",
    "ens_clf.fit(X, y)\n",
    "classifier_list = [best_sgd_clf, best_lgr_clf, nab_clf, best_raf_clf, best_svm_clf, best_knn_clf, best_mlp_clf, ens_clf]\n",
    "labels = ['SGD', 'Logistic Regression', 'Naive Bayes', 'Random Forest', 'Support Vector Machine', 'K-NN', 'MLP', 'Ensemble']\n",
    "weights = []\n",
    "for clf, label in zip(classifier_list, labels):\n",
    "    scores = cross_val_score(clf, X, y, cv = 10, scoring = 'accuracy')\n",
    "    temp  = np.log(scores.mean()/(1-scores.mean()))\n",
    "    weights.append(temp)\n",
    "    print 'Accuracy: %0.2f (+/- %0.4f) [%s]' %(scores.mean(), scores.std(), label)"
   ]
  },
  {
   "cell_type": "code",
   "execution_count": 64,
   "metadata": {
    "collapsed": true
   },
   "outputs": [],
   "source": [
    "# We will try another combination/fusion rule. This rule comes from the field of parallel decision fusion. The optimal decision\n",
    "# combination rule under certain conditions is a weighted sum of the individual classifier decisions compared to a threshold.\n",
    "# MOre details can be found in http://ieeexplore.ieee.org/document/4104179/\n",
    "\n",
    "def class_test_stat(y_pred, tp,fa):\n",
    "    a1 = tp/fa\n",
    "    a2 = (1-fa)/(1-tp)\n",
    "    y_pred[y_pred==0] = -1\n",
    "    wt_dec = []\n",
    "    for y in y_pred:\n",
    "        if y == 1:\n",
    "            wt_dec.append(np.log(a1)*y)\n",
    "        else:\n",
    "            wt_dec.append(np.log(a2)*y)\n",
    "    \n",
    "    return wt_dec\n",
    "classifier_list = [best_sgd_clf, best_lgr_clf, nab_clf, best_raf_clf, best_svm_clf, best_knn_clf, best_mlp_clf]\n",
    "labels = ['SGD', 'Logistic Regression', 'Naive Bayes', 'Random Forest', 'Support Vector Machine', 'K-NN', 'MLP']\n",
    "\n",
    "mega_list = []\n",
    "for clf, label in zip(classifier_list, labels):\n",
    "    y_pred = cross_val_predict(clf, X, y, cv = 5)\n",
    "    conf_mat = confusion_matrix(y, y_pred)\n",
    "    row_sums = conf_mat.sum(axis = 1, keepdims = True)\n",
    "    norm_conf_mat = conf_mat/row_sums\n",
    "    true_positive = norm_conf_mat[1,1]\n",
    "    false_alarm = norm_conf_mat[0,1]\n",
    "    y_wt_pred = class_test_stat(y_pred, true_positive, false_alarm)\n",
    "    y_wt_pred = np.array(y_wt_pred).reshape(-1,1)\n",
    "    mega_list.append(y_wt_pred)  "
   ]
  },
  {
   "cell_type": "code",
   "execution_count": 65,
   "metadata": {
    "collapsed": false
   },
   "outputs": [
    {
     "data": {
      "text/plain": [
       "(891L, 7L)"
      ]
     },
     "execution_count": 65,
     "metadata": {},
     "output_type": "execute_result"
    }
   ],
   "source": [
    "all_wt_pred = np.concatenate(mega_list, axis = 1)\n",
    "all_wt_pred.shape"
   ]
  },
  {
   "cell_type": "code",
   "execution_count": 66,
   "metadata": {
    "collapsed": false
   },
   "outputs": [
    {
     "name": "stdout",
     "output_type": "stream",
     "text": [
      "Post fusion accuracy: 0.82\n"
     ]
    }
   ],
   "source": [
    "# Fusion center predictions\n",
    "def fusion_center_pred(M):\n",
    "    row_sum = M.sum(axis=1, keepdims = True)\n",
    "    row_sum = row_sum.reshape(-1) # to change to 1D array\n",
    "    y_pred_fus = list((row_sum>0)*1)\n",
    "    return y_pred_fus\n",
    "\n",
    "y_pred_fus = fusion_center_pred(all_wt_pred)\n",
    "\n",
    "# Fusion center accuracy\n",
    "from sklearn.metrics import accuracy_score\n",
    "\n",
    "fus_accuracy = accuracy_score(y,y_pred_fus)\n",
    "print 'Post fusion accuracy: %0.2f' %fus_accuracy"
   ]
  },
  {
   "cell_type": "code",
   "execution_count": null,
   "metadata": {
    "collapsed": true
   },
   "outputs": [],
   "source": []
  }
 ],
 "metadata": {
  "kernelspec": {
   "display_name": "Python 2",
   "language": "python",
   "name": "python2"
  },
  "language_info": {
   "codemirror_mode": {
    "name": "ipython",
    "version": 2
   },
   "file_extension": ".py",
   "mimetype": "text/x-python",
   "name": "python",
   "nbconvert_exporter": "python",
   "pygments_lexer": "ipython2",
   "version": "2.7.11"
  }
 },
 "nbformat": 4,
 "nbformat_minor": 0
}
